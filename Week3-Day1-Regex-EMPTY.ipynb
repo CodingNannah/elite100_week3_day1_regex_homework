{
 "cells": [
  {
   "cell_type": "markdown",
   "metadata": {},
   "source": [
    "# Regular Expressions"
   ]
  },
  {
   "cell_type": "markdown",
   "metadata": {},
   "source": [
    "# Tasks today:\n",
    "1) <b>Importing</b> <br>\n",
    "2) <b>Using Regular Expressions</b> <br>\n",
    " &nbsp;&nbsp;&nbsp;&nbsp; a) re.compile() <br>\n",
    " &nbsp;&nbsp;&nbsp;&nbsp; b) re.match() <br>\n",
    " &nbsp;&nbsp;&nbsp;&nbsp; c) re.findall() <br>\n",
    " &nbsp;&nbsp;&nbsp;&nbsp; d) re.search() <br>\n",
    "3) <b>Sets</b> <br>\n",
    " &nbsp;&nbsp;&nbsp;&nbsp; a) Integer Ranges <br>\n",
    " &nbsp;&nbsp;&nbsp;&nbsp; b) Character Ranges <br>\n",
    "4) <b>Counting Occurences</b> <br>\n",
    " &nbsp;&nbsp;&nbsp;&nbsp; a) {x} <br>\n",
    " &nbsp;&nbsp;&nbsp;&nbsp; b) {, x} <br>\n",
    " &nbsp;&nbsp;&nbsp;&nbsp; c) {?} <br>\n",
    " &nbsp;&nbsp;&nbsp;&nbsp; d) {*} <br>\n",
    " &nbsp;&nbsp;&nbsp;&nbsp; e) {+} <br>\n",
    "5) <b>In-Class Exercise #1</b> <br>\n",
    "6) <b>Escaping Characters</b> <br>\n",
    "7) <b>Grouping</b> <br>\n",
    "8) <b>In-Class Exercise #2</b> <br>\n",
    "9) <b>Opening a File</b> <br>\n",
    " &nbsp;&nbsp;&nbsp;&nbsp; a) open() <br>\n",
    " &nbsp;&nbsp;&nbsp;&nbsp; b) with open() <br>\n",
    " &nbsp;&nbsp;&nbsp;&nbsp; c) re.match() <br>\n",
    " &nbsp;&nbsp;&nbsp;&nbsp; d) re.search() <br>\n",
    " &nbsp;&nbsp;&nbsp;&nbsp; e) Store the String in a Variable <br>\n",
    "10) <b>Regex Project</b> <br>"
   ]
  },
  {
   "cell_type": "markdown",
   "metadata": {},
   "source": [
    "### Importing <br>\n",
    "<p>Regular Expressions are universal throughout most programming languages... They are generally imported through the module 're'.</p>"
   ]
  },
  {
   "cell_type": "code",
   "execution_count": null,
   "metadata": {},
   "outputs": [],
   "source": [
    "#make sure stud is on RAW"
   ]
  },
  {
   "cell_type": "code",
   "execution_count": null,
   "metadata": {},
   "outputs": [],
   "source": [
    "import re\n"
   ]
  },
  {
   "cell_type": "markdown",
   "metadata": {},
   "source": [
    "### Using Regular Expressions <br>\n",
    "<p>Regular expressions give us the ability to search for patterns within text, strings, files, etc. They serve several uses, such as; security measures, searching, filtering, pattern recognition, and more...</p>"
   ]
  },
  {
   "cell_type": "markdown",
   "metadata": {},
   "source": [
    "##### RegEx Cheatsheet"
   ]
  },
  {
   "cell_type": "raw",
   "metadata": {},
   "source": [
    "########################\n",
    "# DO NOT RUN THIS CELL #\n",
    "########################\n",
    "\n",
    "a, X, 9, < -- ordinary characters just match themselves exactly.\n",
    ". (a period) -- matches any single character except newline '\\n'\n",
    "\\w -- matches a \"word\" character: a letter or digit or underbar [a-zA-Z0-9_].\n",
    "\\W -- matches any non-word character.\n",
    "\\b -- matches word boundary (in between a word character and a non word character)\n",
    "\\s -- matches a single whitespace character -- space, newline, return, tab\n",
    "\\S -- matches any non-whitespace character.\n",
    "\\t, \\n, \\r -- tab, newline, return\n",
    "\\d -- matches any numeric digit [0-9]\n",
    "\\D matches any non-numeric character.\n",
    "^ -- matches the beginning of the string, or specify omition of certain characters\n",
    "$ -- matches the end of the string\n",
    "\\ -- escapes special character.\n",
    "(x|y|z) matches exactly one of x, y or z.\n",
    "(x) in general is a remembered group. We can get the value of what matched by using the groups() method of the object returned by re.search.\n",
    "x? matches an optional x character (in other words, it matches an x zero or one times).\n",
    "x* matches x zero or more times.\n",
    "x+ matches x one or more times.\n",
    "x{m,n} matches an x character at least m times, but not more than n times.\n",
    "?: matches an expression but do not capture it. Non capturing group.\n",
    "?= matches a suffix but exclude it from capture. Positive lookahead.\n",
    "a(?=b) will match the \"a\" in \"ab\", but not the \"a\" in \"ac\"\n",
    "In other words, a(?=b) matches the \"a\" which is followed by the string 'b', without consuming what follows the a.\n",
    "?! matches if suffix is absent. Negative look ahead.\n",
    "a(?!b) will match the \"a\" in \"ac\", but not the \"a\" in \"ab\"\n",
    "?<= positive look behind\n",
    "[] matches for groupings of consecutive characters\n",
    "?<! negative look behind\n",
    "\n",
    "########################\n",
    "# DO NOT RUN THIS CELL #\n",
    "########################"
   ]
  },
  {
   "cell_type": "markdown",
   "metadata": {},
   "source": [
    "##### re.compile()"
   ]
  },
  {
   "cell_type": "code",
   "execution_count": null,
   "metadata": {},
   "outputs": [],
   "source": [
    "# using compile, pre determines the string to be used in regular expression methods\n",
    "pattern = re.compile(r'abcd')"
   ]
  },
  {
   "cell_type": "markdown",
   "metadata": {},
   "source": [
    "##### re.match()"
   ]
  },
  {
   "cell_type": "code",
   "execution_count": null,
   "metadata": {},
   "outputs": [],
   "source": [
    "# Starts looking at beginning & returns 1st match @ the front of the string\n",
    "\n",
    "data = 'abcd123'\n",
    "match = pattern.match(data)\n",
    "print(match)\n",
    "data[0:4]\n",
    "\n",
    "print(match.span())"
   ]
  },
  {
   "cell_type": "raw",
   "metadata": {},
   "source": [
    "start = match.span()[0]\n",
    "stop = match.span()[1]\n",
    "\n",
    "print(data[start:stop])"
   ]
  },
  {
   "cell_type": "code",
   "execution_count": null,
   "metadata": {},
   "outputs": [],
   "source": [
    "start,stop = match.span()\n",
    "print(data[start:stop])"
   ]
  },
  {
   "cell_type": "code",
   "execution_count": null,
   "metadata": {},
   "outputs": [],
   "source": [
    "match = re.match(r'abcd', 'abcd123')\n"
   ]
  },
  {
   "cell_type": "markdown",
   "metadata": {},
   "source": [
    "##### re.search()"
   ]
  },
  {
   "cell_type": "code",
   "execution_count": null,
   "metadata": {},
   "outputs": [],
   "source": [
    "# find match anywhere in string\n",
    "random_string = \"123 123 234 abcd abc abcd123 abcd\"\n",
    "search = pattern.search(random_string)\n",
    "print(search.span())\n",
    "print(search.start())\n",
    "print(search.end())\n",
    "\n",
    "print(random_string[search.start() : search.end()])"
   ]
  },
  {
   "cell_type": "markdown",
   "metadata": {},
   "source": [
    "##### re.findall()"
   ]
  },
  {
   "cell_type": "code",
   "execution_count": null,
   "metadata": {},
   "outputs": [],
   "source": [
    "# returns a list\n",
    "\n",
    "finders = pattern.findall(\"123abcd abcd123 abcd abc abcacd acb acab\")\n",
    "print(finders)"
   ]
  },
  {
   "cell_type": "markdown",
   "metadata": {},
   "source": [
    "### Sets <br>\n",
    "<p>The following cells will allow you to use regular expressions to search for certain values within a range such as numbers 1 through 4.</p>"
   ]
  },
  {
   "cell_type": "markdown",
   "metadata": {},
   "source": [
    "##### [a-z] or [A-Z] - any lowercase/uppercase letters from a to z<br/>[^2] - anything that's not 2"
   ]
  },
  {
   "cell_type": "markdown",
   "metadata": {},
   "source": [
    "##### Integer Ranges"
   ]
  },
  {
   "cell_type": "code",
   "execution_count": null,
   "metadata": {},
   "outputs": [],
   "source": [
    "#numbers must touch\n",
    "pattern_int = re.compile(r'[0-7][7-9]')\n",
    "\n",
    "random_number = pattern_int.search('6783')\n",
    "print(random_number)\n",
    "span = random_number.span()\n",
    "print(random_number[span[0]])"
   ]
  },
  {
   "cell_type": "code",
   "execution_count": null,
   "metadata": {},
   "outputs": [],
   "source": [
    "pattern_int = re.compile(r'[0-7][7-9]')\n",
    "\n",
    "random_number = pattern_int.search('6448')\n",
    "print(random_number)\n",
    "span = random_number.span()\n",
    "print(span)\n",
    "\n",
    "\"6448\"[span[0]:span[1]]"
   ]
  },
  {
   "cell_type": "code",
   "execution_count": null,
   "metadata": {},
   "outputs": [],
   "source": [
    "random_number = pattern_int.search('584787365')\n",
    "print(random_number)"
   ]
  },
  {
   "cell_type": "markdown",
   "metadata": {},
   "source": [
    "##### Character Ranges"
   ]
  },
  {
   "cell_type": "code",
   "execution_count": null,
   "metadata": {},
   "outputs": [],
   "source": [
    "pattern_char = re.compile(r'[A-Z][a-z]')\n",
    "found_count = pattern_char.findall(\"Hello There Mr. AndersonXX1o\")\n",
    "print(found_count)"
   ]
  },
  {
   "cell_type": "markdown",
   "metadata": {},
   "source": [
    "### Counting Occurences"
   ]
  },
  {
   "cell_type": "markdown",
   "metadata": {},
   "source": [
    "##### {x} - something that occurs {num_of_times}"
   ]
  },
  {
   "cell_type": "code",
   "execution_count": null,
   "metadata": {},
   "outputs": [],
   "source": [
    "char_pattern_count = re.compile(r\"[A-Z][a-z]{2}[0-3]{2}\")\n",
    "\n",
    "random_string= char_pattern_count.findall(\"Hello My25. Ann33derson Nww31\")\n",
    "print(random_string)"
   ]
  },
  {
   "cell_type": "markdown",
   "metadata": {},
   "source": [
    "##### {x, x} - something that occurs between x and x times"
   ]
  },
  {
   "cell_type": "code",
   "execution_count": null,
   "metadata": {},
   "outputs": [],
   "source": [
    "random_pattern = re.compile(r'm{1,5}')\n",
    "\n",
    "test_string = \"This is an example of a regular expression trying to fin one m, more than one mmm or 5 mmmmms but not 6 mmmmmm\"\n",
    "\n",
    "random_string = random_pattern.findall(test_string)\n",
    "print(random_string)"
   ]
  },
  {
   "cell_type": "markdown",
   "metadata": {},
   "source": [
    "##### ? - something that occurs 0 or 1 time"
   ]
  },
  {
   "cell_type": "code",
   "execution_count": null,
   "metadata": {},
   "outputs": [],
   "source": [
    "# Question mark only applies to the item immediately before it\n",
    "pattern = re.compile(r'Ms?')\n",
    "\n",
    "my_string = \"Hello there mr Anderson, How is Ms. Anderson? excuse me MS I mean Msss?\""
   ]
  },
  {
   "cell_type": "markdown",
   "metadata": {},
   "source": [
    "##### * - something that occurs at least 0 times"
   ]
  },
  {
   "cell_type": "code",
   "execution_count": null,
   "metadata": {},
   "outputs": [],
   "source": [
    "# Asterisk only applies to the item immediately before it\n",
    "pattern = re.compile(r'Ms*')\n",
    "\n",
    "my_string = \"MMY name is Ms. Smith. This is Mssssssss\"\n",
    "print(pattern.findall(my_string))"
   ]
  },
  {
   "cell_type": "markdown",
   "metadata": {},
   "source": [
    "##### + - something that occurs at least once"
   ]
  },
  {
   "cell_type": "code",
   "execution_count": null,
   "metadata": {},
   "outputs": [],
   "source": [
    "# Plus applies to item immediately before. (Must be connected.) At least once.\n",
    "pattern = re.compile(r'M+s+')\n",
    "\n",
    "my_string = \"MY Name is Ms. SMith. This is MMMMMssssssss\"\n",
    "print(pattern.findall(my_string))"
   ]
  },
  {
   "cell_type": "markdown",
   "metadata": {},
   "source": [
    "##### In-class exercise 1: \n",
    "\n",
    "Use a regular expression to find every number in the given string"
   ]
  },
  {
   "cell_type": "code",
   "execution_count": null,
   "metadata": {},
   "outputs": [],
   "source": [
    "my_string = \"This string has 10909090 numbers, but it is only 1 string. I hope you solve this 2day.\"\n",
    "\n",
    "# Output : ['10909090', '1', '2']\n",
    "\n",
    "pattern = re.compile(r\"[0-9]+\")\n",
    "#pattern = re.compile(r\"[\\d]+\") - see d below\n",
    "#my oops!:\n",
    "#print(my_string[compile.start() : compile.end()])\n",
    "#Caleb's:\n",
    "pattern.findall(my_string)\n"
   ]
  },
  {
   "cell_type": "code",
   "execution_count": null,
   "metadata": {},
   "outputs": [],
   "source": [
    "# find the needle in this haystack:\n",
    "\n",
    "my_string = \"HAYHAYHAYHAYLHAYEHAYDHAYEHAYNHAYEHAYHAYEHAYHAYLHAYDHAYEHAYEHAYNHAYNHAYEHAYHAYHAYNHAYHAYHAYDHAYHAYHAYHAYHAYLHAYEHAYNHAYHAYHAYEHAYDHAYLHAYHAYEHAYHAYDHAYNHAYEHAYHAYHAYLHAYEHAYHAYHAYHAYHAYNHAYDHAYHAYHAYHAYLHAYHAYHAYHAYHAYHAYHAYLHAYEHAYDHAYEHAYNHAYEHAYHAYEHAYHAYLHAYDHAYEHAYEHAYNHAYDHAYNHAYEHAYHAYHAYLHAYEHAYHAYHAYHAYHAYNHAYDHAYEHAYEHAYLHAYHAYHAYHAYHAYHAYLHAYEHAYDHAYEHAYNHAYEHAYHAYEHAYHAYLHAYDHAYEHAYEHAYNHAYNHAYEHAYHAYHAYNHAYHAYHAYDHAYHAYHAYHAYHAYLHAYEHAYNHAYHAYHAYEHAYDHAYLHAYHAYEHAYHAYDHAYNHAYEHAYHAYHAYLHAYEHAYHAYHAYHAYHAYNHAYHAYHAYEHAYDHAYLHAYHAYEHAYHAYHAYNHAYHAYEHAYHAYHAYEHAYHAYHAYHAYHAYDHAYLHAYHAYHAYHAYHAYENHAYHAYHAYEHAYDHAYLHAYHAYEHAYHAYHAYHAYHAYHAYHAYNHAYEHAYEHAYHAYHAYHAYDHAYEHAYHAYHAYHAYHAYNHAYDHAYHAYHAYHAYLHAYHAYHAYHAYHAYHAYHAYLHAYEHAYDHAYEHAYNHAYEHAYHAYEHAYHAYLHAYDHAYEHAYEHAYNHAYDHAYNHAYEHAYHAYHAYLHAYEHAYHAYHAYHAYHAYNHAYDHAYEHAYEHAYLHAYHAYHAYHAYHAYHAYLHAYEHAYDHAYEHAYNHAYEHAYHAYEHAYHAYLHAYDHAYEHAYEHAYNHAYNHAYEHAYHAYHAYNHAYHAYHAYDHAYHAYHAYHAYHAYLHAYEHAYNHAYHAYHAYEHAYDHAYLHAYHAYEHAYHAYDHAYNHAYEHAYHAYHAYLHAYEHAYHAYHAYHAYHAYNHAYHAYHAYEHAYDHAYLHAYHAYEHAYHAYNHAYHAYHAYEHAYDHAYLHAYHAYEHAYHAYHAYEHAYHAYLHAYDHAYEHAYEHAYNHAYNHAYEHAYHAYHAYNHAYHAYHAYDHAYHAYHAYHAYHAYLHAYEHAYNHAYHAYHAYEHAYDHAYLHAYHAYEHAYHAYDHAYNHAYEHAYHAYHAYLHAYEHAYHAYHAYHAYHAYNHAYEHAYEHAYHAYHAYHAYDHAYEHAYHAYHAYHAYHAYNHAYDHAYHAYHAYHAYLHAYHAYHAYHAYHAYHAYHAYLHAYEHAYDHAYEHAYNHAYEHAYHAYEHAYHAYLHAYDHAYEHAYEHAYNHAY\"\n",
    "\n",
    "pattern = re.compile(r'N[HAY]*E[HAY]*E[HAY]*D[HAY]*L[HAY]*E[HAY]*')\n",
    "\n",
    "pattern.findall(my_string)\n",
    "\n"
   ]
  },
  {
   "cell_type": "markdown",
   "metadata": {},
   "source": [
    "### Escaping Characters"
   ]
  },
  {
   "cell_type": "markdown",
   "metadata": {},
   "source": [
    "##### \\w - look for any Unicode character<br/>\\W - look for anything that isnt a Unicode character\n",
    "\n",
    "[History on Unicode](http://unicode.org/standard/WhatIsUnicode.html)\n",
    "\n",
    "[More on Unicode Characters](https://en.wikipedia.org/wiki/List_of_Unicode_characters)"
   ]
  },
  {
   "cell_type": "code",
   "execution_count": null,
   "metadata": {},
   "outputs": [],
   "source": [
    "# Little W: catches anything number or letter and underscore, not spaces -stops on spaces\n",
    "# Big W: catches everything else, catches spaces\n",
    "\n",
    "pattern_1=re.compile(r'[\\w]+')\n",
    "pattern_2=re.compile(r'[\\W]+')\n",
    "\n",
    "my_string=\"This is 1 sentence. With an, exclamation mark's at the end! _\"\n",
    "f_1 = pattern_1.findall(my_string)\n",
    "\n",
    "f_2 = pattern_2.findall(my_string)\n",
    "print(f_1)\n",
    "\n",
    "print(f_2)"
   ]
  },
  {
   "cell_type": "markdown",
   "metadata": {},
   "source": [
    "##### \\d - look for any digit 0-9<br/>\\D - look for anything that isnt a digit"
   ]
  },
  {
   "cell_type": "code",
   "execution_count": null,
   "metadata": {},
   "outputs": [],
   "source": [
    "#EX: .*\n",
    "# NOT looking for full numbers! Looking for digits.\n",
    "\n",
    "pattern = re.compile(r\"\\d{1,2}[t|s|r][a-z]\") #Looking for dates\n",
    "my_string: \"Today is the 7th, in 20 days it will be the 27th, 3rd, 1st, 30th for the 3000th time\"\n",
    "found = pattern.findall(my_string)\n",
    "print(found)\n"
   ]
  },
  {
   "cell_type": "code",
   "execution_count": null,
   "metadata": {},
   "outputs": [],
   "source": [
    "pattern = re.compile(r\"\\D\") #Looking for dates\n",
    "my_string: \"Today is the 7th, in 20 days it will be the 27th, 3rd, 1st, 30th for the 3000th time\"\n",
    "found = pattern.findall(my_string)\n",
    "print(found)"
   ]
  },
  {
   "cell_type": "markdown",
   "metadata": {},
   "source": [
    "##### \\s - look for any white space<br/>\\S - look for anything that isnt whitespace"
   ]
  },
  {
   "cell_type": "code",
   "execution_count": null,
   "metadata": {},
   "outputs": [],
   "source": [
    "#\\s = \\n \\t \\r \\f \" \" -- captures anything after whitespace\n",
    "#\\S = captures anything after anything that is not whitespace\n",
    "\n",
    "pattern_1 = re.compile(r'\\s[a-z]+')\n",
    "pattern_2 = re.compile(r'\\S[a-z]+')\n",
    "\n",
    "my_string = \"Are you afraid of the dark?\"\n",
    "found_space = pattern_1.findall(my_string)\n",
    "print(found_space)\n",
    "\n",
    "found_ns = pattern_2.findall(my_string)\n",
    "print(found_ns)"
   ]
  },
  {
   "cell_type": "markdown",
   "metadata": {},
   "source": [
    "##### \\b - look for boundaries or edges of a word<br/>\\B - look for anything that isnt a boundary"
   ]
  },
  {
   "cell_type": "code",
   "execution_count": null,
   "metadata": {},
   "outputs": [],
   "source": [
    "# Before the first character in the string, if the first character is a word character.\n",
    "# After the last character in the string, if the last character is a word character.\n",
    "# Between two characters in the string, where one is a word character and the other is not a word character\n",
    "\n",
    "pattern_1 = re.compile(r'\\bTheCodingTemple\\b')\n",
    "pattern_2 = re.compile(r'\\BTheCodingTemple\\B')\n",
    "\n",
    "my_string = \"huij7849jhf78duj:TheCodingTemple:87ij398uy7huijo\"\n",
    "\n",
    "found1 = pattern_1.findall(my_string)\n",
    "print(found1)\n",
    "\n",
    "found2 = pattern_2.findall(my_string)\n",
    "print(found2)\n",
    "\n"
   ]
  },
  {
   "cell_type": "code",
   "execution_count": null,
   "metadata": {},
   "outputs": [],
   "source": [
    "my_string = \"Hey, guys, check, out, this, rad, method\"\n",
    "my_string.split(',')"
   ]
  },
  {
   "cell_type": "markdown",
   "metadata": {},
   "source": [
    "### Grouping"
   ]
  },
  {
   "cell_type": "code",
   "execution_count": null,
   "metadata": {},
   "outputs": [],
   "source": [
    "# https://regex101.com/"
   ]
  },
  {
   "cell_type": "code",
   "execution_count": null,
   "metadata": {},
   "outputs": [],
   "source": [
    "my_string = \"Max Smith, aaron rodgers, Sam Darnold, LeBron James, Michael Jordan, Kevin Durant, Patrick McCormick\"\n",
    "\n",
    "pattern = re.compile(r'([A-Z][a-zA-Z]+) ([A-Z][\\w]+)')\n",
    "found = pattern.findall(my_string)\n",
    "print(found)\n",
    "\n",
    "# Output = List of Tuples of Strings\n",
    "\n",
    "\n",
    "print(found[0])\n",
    "print(found[1][1], found[1][0])\n"
   ]
  },
  {
   "cell_type": "code",
   "execution_count": null,
   "metadata": {
    "scrolled": true
   },
   "outputs": [],
   "source": [
    "my_string.split(', ')"
   ]
  },
  {
   "cell_type": "code",
   "execution_count": null,
   "metadata": {},
   "outputs": [],
   "source": [
    "for name in my_string.split(', '):\n",
    "    match = pattern.search(name)\n",
    "    if match:\n",
    "        print(match.groups())\n",
    "    else:\n",
    "         print(f'No Match Found')   "
   ]
  },
  {
   "cell_type": "code",
   "execution_count": null,
   "metadata": {},
   "outputs": [],
   "source": [
    "for name in my_string.split(', '):\n",
    "    match = pattern.search(name)\n",
    "    if match:\n",
    "        print(f\"This guy's last name is: {match.groups()[1]} \\n This guy's first name is:{match.groups()[0]}\")\n",
    "    else:\n",
    "         print(f'No Match Found')   "
   ]
  },
  {
   "cell_type": "markdown",
   "metadata": {},
   "source": [
    "##### In-class Exercise 2:\n",
    "\n",
    "Write a function using regular expressions to find the domain name in the given email addresses (and return None for the invalid email addresses)<br><b>HINT: Use '|' for either or</b>"
   ]
  },
  {
   "cell_type": "code",
   "execution_count": null,
   "metadata": {},
   "outputs": [],
   "source": [
    "my_emails = [\"jordanw@codingtemple.orgcom\", \"pocohontas1776@gmail.com\", \"helloworld@aol..com\",\n",
    "             \"yourfavoriteband@g6.org\", \"@codingtemple.com\"]\n",
    "\n",
    "# You can also use the $ at the end of your compile expression -- this stops the search\n",
    "\n",
    "#Expected output:\n",
    "#jordanw@codingtemple.orgcom\n",
    "#pocohontas1776@gmail.com\n",
    "#None\n",
    "#yourfavoriteband@g6.org\n",
    "#None\n",
    "\n",
    "#returning a domain name\n",
    "\n",
    "pattern = re.compile(r'[A-Za-z]+[\\d]+[\\W][A-Za-z]+[\\W][A-Za-z]+)')\n",
    "found = pattern.findall(my_emails)\n",
    "print(found)\n",
    "\n"
   ]
  },
  {
   "cell_type": "code",
   "execution_count": null,
   "metadata": {},
   "outputs": [],
   "source": [
    "def validate_email(email):\n",
    "    pattern = re.compile(r\"([A-Za-z0-9]+)@([A-Za-z0-9]+)\\.([org|com])\")\n",
    "    if pattern.match(email):\n",
    "        return email\n",
    "    else:\n",
    "        return None\n",
    "\n",
    "def validate_result():    \n",
    "    for email in my_emails:\n",
    "        print(validate_email(email))\n",
    "        \n",
    "validate_result()  "
   ]
  },
  {
   "cell_type": "markdown",
   "metadata": {},
   "source": [
    "### Opening a File <br>\n",
    "<p>Python gives us a couple ways to import files, below are the two used most often.</p>"
   ]
  },
  {
   "cell_type": "markdown",
   "metadata": {},
   "source": [
    "##### open()"
   ]
  },
  {
   "cell_type": "code",
   "execution_count": null,
   "metadata": {},
   "outputs": [],
   "source": [
    "# Never do this way again!\n",
    "\n",
    "file = open('./files/names.txt')\n",
    "try:\n",
    "    data = file.read()\n",
    "    print(data)\n",
    "    file.close()\n",
    "    \n",
    "except:\n",
    "    file.close()\n",
    "    \n",
    "print(type(data))"
   ]
  },
  {
   "cell_type": "markdown",
   "metadata": {},
   "source": [
    "##### with open()"
   ]
  },
  {
   "cell_type": "code",
   "execution_count": null,
   "metadata": {},
   "outputs": [],
   "source": [
    "# USE THIS WAY!!!"
   ]
  },
  {
   "cell_type": "code",
   "execution_count": null,
   "metadata": {
    "scrolled": true
   },
   "outputs": [],
   "source": [
    "with open('./files/names.txt') as file:\n",
    "print(file.read())\n"
   ]
  },
  {
   "cell_type": "code",
   "execution_count": null,
   "metadata": {
    "scrolled": true
   },
   "outputs": [],
   "source": [
    "with open('./files/names.txt') as file:\n",
    "    file_by_line = file.readlines()\n",
    "print(file_by_line)\n",
    "\n",
    "print(\"++++++++++++++++++++++++++++++++++++++++++++++++++++++++++++\")\n",
    "\n",
    "for line in file_by_line:\n",
    "    print(line)"
   ]
  },
  {
   "cell_type": "code",
   "execution_count": null,
   "metadata": {},
   "outputs": [],
   "source": [
    "with open('./files/names.txt') as file:\n",
    "    data = file.read()\n",
    "print(data)\n",
    "print(type(data))"
   ]
  },
  {
   "cell_type": "markdown",
   "metadata": {},
   "source": [
    "##### re.match()"
   ]
  },
  {
   "cell_type": "code",
   "execution_count": null,
   "metadata": {},
   "outputs": [],
   "source": [
    "#match only matches beginning of string!\n",
    "\n",
    "print(re.match(r'Hawkins,Derek', data))\n",
    "print(data[0:14])"
   ]
  },
  {
   "cell_type": "markdown",
   "metadata": {},
   "source": [
    "##### re.search()"
   ]
  },
  {
   "cell_type": "code",
   "execution_count": null,
   "metadata": {},
   "outputs": [],
   "source": [
    "print(re.search(r'ripalp@codingtemple.com', data))\n",
    "(data[582:605])"
   ]
  },
  {
   "cell_type": "code",
   "execution_count": null,
   "metadata": {},
   "outputs": [],
   "source": [
    "# \\t tab\n",
    "# \\n new line\n",
    "# \\r carriage return"
   ]
  },
  {
   "cell_type": "code",
   "execution_count": null,
   "metadata": {},
   "outputs": [],
   "source": [
    "print('This is line 1 \\nthis is line 2 \\rI wrote over line2')"
   ]
  },
  {
   "cell_type": "markdown",
   "metadata": {},
   "source": [
    "##### Store the String to a Variable"
   ]
  },
  {
   "cell_type": "code",
   "execution_count": null,
   "metadata": {
    "scrolled": false
   },
   "outputs": [],
   "source": [
    "# answer = input(\"What would you like to search for?\")\n",
    "# found = re.findall(answer.data)\n",
    "# if found:\n",
    "#     print(f\"I found your data: {found}.\")\n",
    "# else:\n",
    "#     print(f\"No data found.\")"
   ]
  },
  {
   "cell_type": "code",
   "execution_count": null,
   "metadata": {},
   "outputs": [],
   "source": [
    "answer = input(\"What would you like to search for?\")\n",
    "found = re.findall(answer,data)\n",
    "if found: \n",
    "    print(f\"I found your data: {found}\")\n",
    "else:\n",
    "    print(\";sdjfiesf\")\n"
   ]
  },
  {
   "cell_type": "markdown",
   "metadata": {},
   "source": [
    "### In-Class Exercise #3 <br>\n",
    "<p>Print each persons name and twitter handle, using groups, should look like:</p>\n",
    "<p>==============<br>\n",
    "   Full Name / Twitter<br>\n",
    "   ==============</p>\n",
    "Derek Hawkins / @derekhawkins\n",
    "\n",
    " Erik Sven-Osterberg / @sverik\n",
    "\n",
    " Ryan Butz / @ryanbutz\n",
    "\n",
    " Example Exampleson / @example\n",
    "\n",
    " Ripal Pael / @ripalp\n",
    "\n",
    " Darth Vader / @darthvader"
   ]
  },
  {
   "cell_type": "code",
   "execution_count": null,
   "metadata": {
    "scrolled": false
   },
   "outputs": [],
   "source": [
    "with open('./files/names.txt') as file:\n",
    "    print(file.read())"
   ]
  },
  {
   "cell_type": "code",
   "execution_count": null,
   "metadata": {},
   "outputs": [],
   "source": [
    "# Our Team:\n",
    "\n",
    "import re\n",
    "\n",
    "with open('./files/names.txt') as file:\n",
    "    print(file.read())\n",
    "\n",
    "# do this in line by line?\n",
    "\n",
    "def twitter():\n",
    "    pattern_twitter = re.compile(r\"@([A-Za-z0-9]+)\")\n",
    "    found_twitter = pattern_twitter.findall()\n",
    "    return found_twitter\n",
    "\n",
    "def name():\n",
    "    pattern_name = re.compile(r'([A-Z][a-z]+) ([A-Z][a-z]+|[A-Z][a-z]+[\\W][A-Z][a-z]+)') #last name is first!\n",
    "    found_name = pattern_name.findall()\n",
    "    return found_name\n",
    "\n",
    "# .format() this?\n",
    "print(\"\"\" \n",
    "==============\n",
    "Full Name / Twitter\n",
    "==============\n",
    "\"\"\")\n",
    "\n",
    "print()\n",
    "\n",
    "\n",
    "# Examples:\n",
    "# def validate_email(email):\n",
    "#     pattern = re.compile(r\"([A-Za-z0-9]+)@([A-Za-z0-9]+)\\.([org|com])\")\n",
    "#     if pattern.match(email):\n",
    "#         return email\n",
    "#     else:\n",
    "#         return None\n",
    "\n",
    "# def validate_result():    \n",
    "#     for email in my_emails:\n",
    "#         print(validate_email(email))\n",
    "        \n",
    "#validate_result() \n"
   ]
  },
  {
   "cell_type": "code",
   "execution_count": null,
   "metadata": {},
   "outputs": [],
   "source": [
    "with open('./files/names.txt') as file:\n",
    "    data = file.read()\n",
    "print(data)\n",
    "print(type(data))"
   ]
  },
  {
   "cell_type": "code",
   "execution_count": 3,
   "metadata": {},
   "outputs": [
    {
     "name": "stdout",
     "output_type": "stream",
     "text": [
      "\n",
      " ===================\n",
      " Full Name / Twitter\n",
      " ===================\n",
      "\n"
     ]
    },
    {
     "ename": "NameError",
     "evalue": "name 'data' is not defined",
     "output_type": "error",
     "traceback": [
      "\u001b[1;31m---------------------------------------------------------------------------\u001b[0m",
      "\u001b[1;31mNameError\u001b[0m                                 Traceback (most recent call last)",
      "Input \u001b[1;32mIn [3]\u001b[0m, in \u001b[0;36m<cell line: 9>\u001b[1;34m()\u001b[0m\n\u001b[0;32m      1\u001b[0m \u001b[38;5;66;03m#Kevin's Method:\u001b[39;00m\n\u001b[0;32m      4\u001b[0m \u001b[38;5;28mprint\u001b[39m(\u001b[38;5;124m'''\u001b[39m\n\u001b[0;32m      5\u001b[0m \u001b[38;5;124m ===================\u001b[39m\n\u001b[0;32m      6\u001b[0m \u001b[38;5;124m Full Name / Twitter\u001b[39m\n\u001b[0;32m      7\u001b[0m \u001b[38;5;124m ===================\u001b[39m\n\u001b[0;32m      8\u001b[0m \u001b[38;5;124m'''\u001b[39m)\n\u001b[1;32m----> 9\u001b[0m new_data \u001b[38;5;241m=\u001b[39m \u001b[43mdata\u001b[49m\u001b[38;5;241m.\u001b[39msplit(\u001b[38;5;124m'\u001b[39m\u001b[38;5;130;01m\\n\u001b[39;00m\u001b[38;5;124m'\u001b[39m)\n\u001b[0;32m     10\u001b[0m \u001b[38;5;28;01mfor\u001b[39;00m line \u001b[38;5;129;01min\u001b[39;00m new_data:\n\u001b[0;32m     11\u001b[0m     twitter \u001b[38;5;241m=\u001b[39m re\u001b[38;5;241m.\u001b[39mfindall(\u001b[38;5;124mr\u001b[39m\u001b[38;5;124m'\u001b[39m\u001b[38;5;124m[\u001b[39m\u001b[38;5;124m\\\u001b[39m\u001b[38;5;124mt](@\u001b[39m\u001b[38;5;124m\\\u001b[39m\u001b[38;5;124mw+)\u001b[39m\u001b[38;5;124m'\u001b[39m,line)\n",
      "\u001b[1;31mNameError\u001b[0m: name 'data' is not defined"
     ]
    }
   ],
   "source": [
    "#Kevin's Method:\n",
    "\n",
    "\n",
    "print('''\n",
    " ===================\n",
    " Full Name / Twitter\n",
    " ===================\n",
    "''')\n",
    "new_data = data.split('\\n')\n",
    "for line in new_data:\n",
    "    twitter = re.findall(r'[\\t](@\\w+)',line)\n",
    "    if twitter:\n",
    "        name = re.findall(r'(\\w+),(\\s\\w+[\\-]?\\w+)',line)\n",
    "        f_name = name[0][1]\n",
    "        l_name = name[0][0]\n",
    "        print(f'{f_name} {l_name} / {twitter[0]}\\n')"
   ]
  },
  {
   "cell_type": "markdown",
   "metadata": {},
   "source": [
    "### Regex project\n",
    "\n",
    "Use python to read the file regex_test.txt and print the last name on each line using regular expressions and groups (return None for names with no first and last name, or names that aren't properly capitalized)\n",
    "##### Hint: use with open() and readlines()"
   ]
  },
  {
   "cell_type": "raw",
   "metadata": {},
   "source": [
    "########################\n",
    "# DO NOT RUN THIS CELL #\n",
    "########################\n",
    "\n",
    "a, X, 9, < -- ordinary characters just match themselves exactly.\n",
    ". (a period) -- matches any single character except newline '\\n'\n",
    "\\w -- matches a \"word\" character: a letter or digit or underbar [a-zA-Z0-9_].\n",
    "\\W -- matches any non-word character.\n",
    "\\b -- matches word boundary (in between a word character and a non word character)\n",
    "\\s -- matches a single whitespace character -- space, newline, return, tab\n",
    "\\S -- matches any non-whitespace character.\n",
    "\\t, \\n, \\r -- tab, newline, return\n",
    "\\d -- matches any numeric digit [0-9]\n",
    "\\D matches any non-numeric character.\n",
    "^ -- matches the beginning of the string, or specify omition of certain characters\n",
    "$ -- matches the end of the string\n",
    "\\ -- escapes special character.\n",
    "(x|y|z) matches exactly one of x, y or z.\n",
    "(x) in general is a remembered group. We can get the value of what matched by using the groups() method of the object returned by re.search.\n",
    "x? matches an optional x character (in other words, it matches an x zero or one times).\n",
    "x* matches x zero or more times.\n",
    "x+ matches x one or more times.\n",
    "x{m,n} matches an x character at least m times, but not more than n times.\n",
    "?: matches an expression but do not capture it. Non capturing group.\n",
    "?= matches a suffix but exclude it from capture. Positive lookahead.\n",
    "a(?=b) will match the \"a\" in \"ab\", but not the \"a\" in \"ac\"\n",
    "In other words, a(?=b) matches the \"a\" which is followed by the string 'b', without consuming what follows the a.\n",
    "?! matches if suffix is absent. Negative look ahead.\n",
    "a(?!b) will match the \"a\" in \"ac\", but not the \"a\" in \"ab\"\n",
    "?<= positive look behind\n",
    "[] matches for groupings of consecutive characters\n",
    "?<! negative look behind\n",
    "\n",
    "########################\n",
    "# DO NOT RUN THIS CELL #\n",
    "########################"
   ]
  },
  {
   "cell_type": "code",
   "execution_count": null,
   "metadata": {},
   "outputs": [],
   "source": [
    "\"\"\"\n",
    "Expected Output:\n",
    "Abraham Lincoln\n",
    "Andrew P Garfield\n",
    "Connor Milliken\n",
    "Jordan Alexander Williams\n",
    "None\n",
    "None\n",
    "\"\"\""
   ]
  },
  {
   "cell_type": "code",
   "execution_count": 8,
   "metadata": {},
   "outputs": [
    {
     "name": "stdout",
     "output_type": "stream",
     "text": [
      "Abraham Lincoln\n",
      "Andrew P Garfield\n",
      "Connor Milliken\n",
      "Jordan Alexander Williams\n",
      "Madonna\n",
      "programming is cool\n"
     ]
    }
   ],
   "source": [
    "with open('./files/regex-test.txt') as file:\n",
    "    print(file.read())"
   ]
  },
  {
   "cell_type": "code",
   "execution_count": 26,
   "metadata": {},
   "outputs": [
    {
     "name": "stdout",
     "output_type": "stream",
     "text": [
      "[('Abraham', '', ' Lincoln')]\n",
      "[('Andrew', ' P', ' Garfield')]\n",
      "[('Connor', '', ' Milliken')]\n",
      "[('Jordan', ' Alexander', ' Williams')]\n",
      "None\n",
      "None\n"
     ]
    }
   ],
   "source": [
    "import re\n",
    "\n",
    "with open('./files/regex-test.txt') as file:\n",
    "    regex_data = file.readlines()\n",
    "    \n",
    "\n",
    "for line in regex_data: \n",
    "    names = re.compile(r'([A-Z][a-z]+)(\\s[A-Z][a-z]*)?(\\s[A-Z][a-z]+)')\n",
    "    name = names.findall(line)\n",
    "    if name: \n",
    "        print(name)\n",
    "    else:\n",
    "        print(\"None\")\n",
    "        \n",
    "# for line in regex_data: \n",
    "#     f_name = re.compile(r'[A-Z][a-z]+')\n",
    "#     m_name = re.compile(r'(\\s[A-Z][a-z]*)?') # middle name = could be there but doesn't have to be! = ?\n",
    "#     l_name = re.compile(r'\\s[A-Z][a-z]+') \n",
    "#     names = f'{f_name} {m_name} {l_name}'\n",
    "#     name = names.findall(line)\n",
    "#     if name: \n",
    "#         print(name)\n",
    "#     else:\n",
    "#         print(\"None\")\n",
    "        \n",
    "#     f_name = re.compile(r'[A-Z][a-z]+')\n",
    "#     m_name = re.compile(r'(\\s[A-Z][a-z]*)?') # middle name = could be there but doesn't have to be! = ?\n",
    "#     l_name = re.compile(r'\\s[A-Z][a-z]+') \n",
    "\n",
    "\n",
    "    # pattern.findall('string')\n",
    "\n",
    "#    \n",
    "        \n",
    "        \n",
    "\n"
   ]
  },
  {
   "cell_type": "code",
   "execution_count": null,
   "metadata": {},
   "outputs": [],
   "source": []
  }
 ],
 "metadata": {
  "kernelspec": {
   "display_name": "Python 3 (ipykernel)",
   "language": "python",
   "name": "python3"
  },
  "language_info": {
   "codemirror_mode": {
    "name": "ipython",
    "version": 3
   },
   "file_extension": ".py",
   "mimetype": "text/x-python",
   "name": "python",
   "nbconvert_exporter": "python",
   "pygments_lexer": "ipython3",
   "version": "3.9.12"
  }
 },
 "nbformat": 4,
 "nbformat_minor": 2
}
